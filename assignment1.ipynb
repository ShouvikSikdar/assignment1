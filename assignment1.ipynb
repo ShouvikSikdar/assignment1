{
 "cells": [
  {
   "attachments": {},
   "cell_type": "markdown",
   "id": "cc933faf-e4a1-4852-9566-1e03b2d97be7",
   "metadata": {},
   "source": [
    "Q1. Create one variable containing following type of data:\n",
    "(i) string\n",
    "(ii) list\n",
    "(iii) float\n",
    "(iv) tuple"
   ]
  },
  {
   "cell_type": "code",
   "execution_count": 1,
   "id": "11c2e07b-d30d-4c55-990e-1a85e83f41b2",
   "metadata": {},
   "outputs": [],
   "source": [
    "a =\"shouvik\"\n",
    "b = [\"asd\",1, 2, 5.26]\n",
    "c = 5.36\n",
    "d = (1,2,5,8)\n"
   ]
  },
  {
   "attachments": {},
   "cell_type": "markdown",
   "id": "787af282-0782-4b98-875f-067ee95fbcd9",
   "metadata": {},
   "source": [
    "Q2. Given are some following variables containing data:\n",
    "(i) var1 = ‘ ‘\n",
    "(ii) var2 = ‘[ DS , ML , Python]’\n",
    "(iii) var3 = [ ‘DS’ , ’ML’ , ‘Python’ ]\n",
    "(iv) var4 = 1.\n",
    "What will be the data type of the above given variable."
   ]
  },
  {
   "cell_type": "code",
   "execution_count": 2,
   "id": "e1b6d664-7e35-49da-b09d-fac0c0bd75d4",
   "metadata": {},
   "outputs": [
    {
     "name": "stdout",
     "output_type": "stream",
     "text": [
      "<class 'str'>\n",
      "<class 'str'>\n",
      "<class 'list'>\n",
      "<class 'float'>\n"
     ]
    }
   ],
   "source": [
    "var1 = ' '\n",
    "var2 = '[ DS , ML , Python]'\n",
    "var3 = [ 'DS' , 'ML' , 'Python' ]\n",
    "var4 = 1.\n",
    "print(type(var1))\n",
    "print(type(var2))\n",
    "print(type(var3))\n",
    "print(type(var4))"
   ]
  },
  {
   "attachments": {},
   "cell_type": "markdown",
   "id": "930bbd94-16a4-4a76-98ee-b9f08eccfc56",
   "metadata": {},
   "source": [
    "Q3. Explain the use of the following operators using an example:\n",
    "(i) /\n",
    "(ii) %\n",
    "(iii) //\n",
    "(iv) **"
   ]
  },
  {
   "attachments": {},
   "cell_type": "markdown",
   "id": "cee8456e-8502-4512-8682-1462e71749f4",
   "metadata": {},
   "source": [
    "(i) / is used for division"
   ]
  },
  {
   "cell_type": "code",
   "execution_count": 3,
   "id": "b154543d-4e35-4956-b742-bb0d46b4e8fc",
   "metadata": {},
   "outputs": [
    {
     "data": {
      "text/plain": [
       "2.0"
      ]
     },
     "execution_count": 3,
     "metadata": {},
     "output_type": "execute_result"
    }
   ],
   "source": [
    "2/1"
   ]
  },
  {
   "attachments": {},
   "cell_type": "markdown",
   "id": "1cb33407-90bc-448c-87c1-04bf86e76f5c",
   "metadata": {},
   "source": [
    "(ii) % is modulas operator. it gives remainder as result"
   ]
  },
  {
   "cell_type": "code",
   "execution_count": 4,
   "id": "df41c7e6-f69a-408c-9f04-3592b1050d96",
   "metadata": {},
   "outputs": [
    {
     "data": {
      "text/plain": [
       "1"
      ]
     },
     "execution_count": 4,
     "metadata": {},
     "output_type": "execute_result"
    }
   ],
   "source": [
    "9%2"
   ]
  },
  {
   "attachments": {},
   "cell_type": "markdown",
   "id": "532ff3b5-67c8-4ffe-ad36-8be4031c6a4c",
   "metadata": {},
   "source": [
    "(iii)// is Floor operator"
   ]
  },
  {
   "cell_type": "code",
   "execution_count": 5,
   "id": "41d2181e-d7b3-48a4-b1a7-fc8907a62fab",
   "metadata": {},
   "outputs": [
    {
     "data": {
      "text/plain": [
       "3"
      ]
     },
     "execution_count": 5,
     "metadata": {},
     "output_type": "execute_result"
    }
   ],
   "source": [
    "9//3"
   ]
  },
  {
   "attachments": {},
   "cell_type": "markdown",
   "id": "e993648b-8033-4ae0-861d-42fdf272a9d3",
   "metadata": {},
   "source": [
    "(iv)** is exponent opereator"
   ]
  },
  {
   "cell_type": "code",
   "execution_count": 6,
   "id": "3623a4a9-64e9-41dc-9fa6-992babebfcc6",
   "metadata": {},
   "outputs": [
    {
     "data": {
      "text/plain": [
       "32"
      ]
     },
     "execution_count": 6,
     "metadata": {},
     "output_type": "execute_result"
    }
   ],
   "source": [
    "2**5"
   ]
  },
  {
   "attachments": {},
   "cell_type": "markdown",
   "id": "86472aff-1217-497c-ad7b-b559dffbce27",
   "metadata": {},
   "source": [
    "Q4. Create a list of length 10 of your choice containing multiple types of data. Using for loop print the\n",
    "element and its data type."
   ]
  },
  {
   "cell_type": "code",
   "execution_count": 44,
   "id": "e267b816-97da-419c-93a9-91f3c8576b12",
   "metadata": {},
   "outputs": [
    {
     "name": "stdout",
     "output_type": "stream",
     "text": [
      "1        <class 'int'>\n",
      "2        <class 'int'>\n",
      "2.2        <class 'float'>\n",
      "asdad        <class 'str'>\n",
      "1235        <class 'int'>\n",
      "sdsgfgs        <class 'str'>\n",
      "8        <class 'int'>\n",
      "456        <class 'int'>\n",
      "1.1        <class 'float'>\n",
      "a        <class 'str'>\n"
     ]
    }
   ],
   "source": [
    "list = [ 1, 2, 2.2, 'asdad', 1235,\"sdsgfgs\",8, 456, 1.10, 'a']\n",
    "for i in list :\n",
    "    print(i,\"      \", type(i))"
   ]
  },
  {
   "attachments": {},
   "cell_type": "markdown",
   "id": "1f93f342-4a57-4b31-9120-61d1a07386e9",
   "metadata": {},
   "source": [
    "Q5. Using a while loop, verify if the number A is purely divisible by number B and if so then how many\n",
    "times it can be divisible."
   ]
  },
  {
   "cell_type": "code",
   "execution_count": 11,
   "id": "f49af15e-7df0-4e1e-a850-b484074b2283",
   "metadata": {},
   "outputs": [
    {
     "name": "stdout",
     "output_type": "stream",
     "text": [
      "10 times divisible\n"
     ]
    }
   ],
   "source": [
    "A = 120\n",
    "B = 12\n",
    "while A % B == 0 :\n",
    "    print(A//B, \"times divisible\")\n",
    "    break\n",
    "else :\n",
    "    print(\"Not Purely Divisible\")\n"
   ]
  },
  {
   "attachments": {},
   "cell_type": "markdown",
   "id": "e5df3fa3-4fee-49ed-8d71-a23d2678d7a9",
   "metadata": {},
   "source": [
    "Q6. Create a list containing 25 int type data. Using for loop and if-else condition print if the element is\n",
    "divisible by 3 or not."
   ]
  },
  {
   "cell_type": "code",
   "execution_count": 32,
   "id": "26965eb9-71d2-4d51-bd2a-a17c27e7eab2",
   "metadata": {},
   "outputs": [],
   "source": [
    "list = [1,25,5,54,4,1,15,4,55,8,8,8,5,55,66,14,1,25,65,4,45,5,4,4,78]\n"
   ]
  },
  {
   "cell_type": "code",
   "execution_count": 41,
   "id": "a8f956bd-6b4a-45fd-8717-62dd5b5c393c",
   "metadata": {},
   "outputs": [
    {
     "name": "stdout",
     "output_type": "stream",
     "text": [
      "1  not divisible by 3\n",
      "25  not divisible by 3\n",
      "5  not divisible by 3\n",
      "54  element is divisible by 3\n",
      "4  not divisible by 3\n",
      "1  not divisible by 3\n",
      "15  element is divisible by 3\n",
      "4  not divisible by 3\n",
      "55  not divisible by 3\n",
      "8  not divisible by 3\n",
      "8  not divisible by 3\n",
      "8  not divisible by 3\n",
      "5  not divisible by 3\n",
      "55  not divisible by 3\n",
      "66  element is divisible by 3\n",
      "14  not divisible by 3\n",
      "1  not divisible by 3\n",
      "25  not divisible by 3\n",
      "65  not divisible by 3\n",
      "4  not divisible by 3\n",
      "45  element is divisible by 3\n",
      "5  not divisible by 3\n",
      "4  not divisible by 3\n",
      "4  not divisible by 3\n",
      "78  element is divisible by 3\n"
     ]
    }
   ],
   "source": [
    "j=1\n",
    "for i in list :\n",
    "    if i % 3 == 0 :\n",
    "        print(i,\" element is divisible by 3\")\n",
    "    else :\n",
    "        print(i, \" not divisible by 3\")\n",
    "     \n",
    "        \n",
    "      \n",
    "  \n",
    "    \n"
   ]
  },
  {
   "attachments": {},
   "cell_type": "markdown",
   "id": "692795d7-6967-4789-9d5e-207b5971bbb5",
   "metadata": {},
   "source": [
    "Q7. What do you understand about mutable and immutable data types? Give examples for both showing\n",
    "this property.\n",
    "\n",
    "ANSWER:\n",
    "MUTABLE OBJECT: An object whose internal state can be modified eg: LIST.\n",
    " IMUTABLE OBJECT: An object whose internal state cannot modified eg: string "
   ]
  },
  {
   "cell_type": "code",
   "execution_count": 49,
   "id": "382849e4-d8a3-4a55-b0fe-7bcc4494085f",
   "metadata": {},
   "outputs": [],
   "source": [
    "s = [ 'x' , 'y' ,'z' ]\n",
    "w = \"xyz\""
   ]
  },
  {
   "cell_type": "code",
   "execution_count": 50,
   "id": "1fe2f452-90a4-4e51-87f1-14be367161ff",
   "metadata": {},
   "outputs": [],
   "source": [
    "s[1] = 'a'"
   ]
  },
  {
   "cell_type": "code",
   "execution_count": 51,
   "id": "771406e1-268b-443e-9b8a-7730df101ffd",
   "metadata": {},
   "outputs": [
    {
     "data": {
      "text/plain": [
       "['x', 'a', 'z']"
      ]
     },
     "execution_count": 51,
     "metadata": {},
     "output_type": "execute_result"
    }
   ],
   "source": [
    "s"
   ]
  },
  {
   "cell_type": "code",
   "execution_count": 53,
   "id": "0764d38f-d0ba-4d8c-97eb-5fcd9ddf2883",
   "metadata": {},
   "outputs": [
    {
     "ename": "TypeError",
     "evalue": "'str' object does not support item assignment",
     "output_type": "error",
     "traceback": [
      "\u001b[0;31m---------------------------------------------------------------------------\u001b[0m",
      "\u001b[0;31mTypeError\u001b[0m                                 Traceback (most recent call last)",
      "Cell \u001b[0;32mIn[53], line 1\u001b[0m\n\u001b[0;32m----> 1\u001b[0m \u001b[43mw\u001b[49m\u001b[43m[\u001b[49m\u001b[38;5;241;43m1\u001b[39;49m\u001b[43m]\u001b[49m \u001b[38;5;241m=\u001b[39m \u001b[38;5;124m'\u001b[39m\u001b[38;5;124ma\u001b[39m\u001b[38;5;124m'\u001b[39m\n",
      "\u001b[0;31mTypeError\u001b[0m: 'str' object does not support item assignment"
     ]
    }
   ],
   "source": [
    "w[1] = 'a'"
   ]
  },
  {
   "cell_type": "code",
   "execution_count": null,
   "id": "6d07549c-61d3-47e8-afc3-ffa7d36ace59",
   "metadata": {},
   "outputs": [],
   "source": []
  }
 ],
 "metadata": {
  "kernelspec": {
   "display_name": "Python 3 (ipykernel)",
   "language": "python",
   "name": "python3"
  },
  "language_info": {
   "codemirror_mode": {
    "name": "ipython",
    "version": 3
   },
   "file_extension": ".py",
   "mimetype": "text/x-python",
   "name": "python",
   "nbconvert_exporter": "python",
   "pygments_lexer": "ipython3",
   "version": "3.10.8"
  }
 },
 "nbformat": 4,
 "nbformat_minor": 5
}
